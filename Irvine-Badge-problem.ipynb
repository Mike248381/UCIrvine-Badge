{
 "cells": [
  {
   "cell_type": "markdown",
   "metadata": {},
   "source": [
    "# I decided to take a stab at the Badge problem from the UC Irvine Repository.\n",
    "I found it an interesting problem to tackle just because we have to be able to determine labels based on the name.\n",
    "\n",
    "# I left all my comments in there and it's very cleaned up for a reason. I wanted the reader to follow my thought process as I dealt with this problem."
   ]
  },
  {
   "cell_type": "code",
   "execution_count": 3,
   "metadata": {},
   "outputs": [],
   "source": [
    "import numpy as np\n",
    "import seaborn as sns\n",
    "import matplotlib.pyplot as plt\n",
    "\n",
    "%matplotlib inline"
   ]
  },
  {
   "cell_type": "code",
   "execution_count": 4,
   "metadata": {},
   "outputs": [],
   "source": [
    "import pandas as pd"
   ]
  },
  {
   "cell_type": "code",
   "execution_count": 5,
   "metadata": {},
   "outputs": [],
   "source": [
    "import string"
   ]
  },
  {
   "cell_type": "code",
   "execution_count": 6,
   "metadata": {},
   "outputs": [],
   "source": [
    "name = pd.read_csv('namelabel.csv', header=None)"
   ]
  },
  {
   "cell_type": "code",
   "execution_count": 5,
   "metadata": {},
   "outputs": [
    {
     "name": "stdout",
     "output_type": "stream",
     "text": [
      "<class 'pandas.core.frame.DataFrame'>\n",
      "RangeIndex: 294 entries, 0 to 293\n",
      "Data columns (total 1 columns):\n",
      "0    294 non-null object\n",
      "dtypes: object(1)\n",
      "memory usage: 2.4+ KB\n"
     ]
    }
   ],
   "source": [
    "name.info()"
   ]
  },
  {
   "cell_type": "code",
   "execution_count": 6,
   "metadata": {},
   "outputs": [
    {
     "data": {
      "text/html": [
       "<div>\n",
       "<style scoped>\n",
       "    .dataframe tbody tr th:only-of-type {\n",
       "        vertical-align: middle;\n",
       "    }\n",
       "\n",
       "    .dataframe tbody tr th {\n",
       "        vertical-align: top;\n",
       "    }\n",
       "\n",
       "    .dataframe thead th {\n",
       "        text-align: right;\n",
       "    }\n",
       "</style>\n",
       "<table border=\"1\" class=\"dataframe\">\n",
       "  <thead>\n",
       "    <tr style=\"text-align: right;\">\n",
       "      <th></th>\n",
       "      <th>0</th>\n",
       "    </tr>\n",
       "  </thead>\n",
       "  <tbody>\n",
       "    <tr>\n",
       "      <th>count</th>\n",
       "      <td>294</td>\n",
       "    </tr>\n",
       "    <tr>\n",
       "      <th>unique</th>\n",
       "      <td>294</td>\n",
       "    </tr>\n",
       "    <tr>\n",
       "      <th>top</th>\n",
       "      <td>- Steven W. Norton</td>\n",
       "    </tr>\n",
       "    <tr>\n",
       "      <th>freq</th>\n",
       "      <td>1</td>\n",
       "    </tr>\n",
       "  </tbody>\n",
       "</table>\n",
       "</div>"
      ],
      "text/plain": [
       "                         0\n",
       "count                  294\n",
       "unique                 294\n",
       "top     - Steven W. Norton\n",
       "freq                     1"
      ]
     },
     "execution_count": 6,
     "metadata": {},
     "output_type": "execute_result"
    }
   ],
   "source": [
    "name.describe()"
   ]
  },
  {
   "cell_type": "code",
   "execution_count": 7,
   "metadata": {},
   "outputs": [
    {
     "data": {
      "text/html": [
       "<div>\n",
       "<style scoped>\n",
       "    .dataframe tbody tr th:only-of-type {\n",
       "        vertical-align: middle;\n",
       "    }\n",
       "\n",
       "    .dataframe tbody tr th {\n",
       "        vertical-align: top;\n",
       "    }\n",
       "\n",
       "    .dataframe thead th {\n",
       "        text-align: right;\n",
       "    }\n",
       "</style>\n",
       "<table border=\"1\" class=\"dataframe\">\n",
       "  <thead>\n",
       "    <tr style=\"text-align: right;\">\n",
       "      <th></th>\n",
       "      <th>0</th>\n",
       "    </tr>\n",
       "  </thead>\n",
       "  <tbody>\n",
       "    <tr>\n",
       "      <th>0</th>\n",
       "      <td>+ Naoki Abe</td>\n",
       "    </tr>\n",
       "    <tr>\n",
       "      <th>1</th>\n",
       "      <td>- Myriam Abramson</td>\n",
       "    </tr>\n",
       "    <tr>\n",
       "      <th>2</th>\n",
       "      <td>+ David W. Aha</td>\n",
       "    </tr>\n",
       "    <tr>\n",
       "      <th>3</th>\n",
       "      <td>+ Kamal M. Ali</td>\n",
       "    </tr>\n",
       "    <tr>\n",
       "      <th>4</th>\n",
       "      <td>- Eric Allender</td>\n",
       "    </tr>\n",
       "  </tbody>\n",
       "</table>\n",
       "</div>"
      ],
      "text/plain": [
       "                   0\n",
       "0        + Naoki Abe\n",
       "1  - Myriam Abramson\n",
       "2     + David W. Aha\n",
       "3     + Kamal M. Ali\n",
       "4    - Eric Allender"
      ]
     },
     "execution_count": 7,
     "metadata": {},
     "output_type": "execute_result"
    }
   ],
   "source": [
    "name.head()"
   ]
  },
  {
   "cell_type": "code",
   "execution_count": 8,
   "metadata": {},
   "outputs": [],
   "source": [
    "name.columns = name.columns.astype(str)"
   ]
  },
  {
   "cell_type": "code",
   "execution_count": 9,
   "metadata": {},
   "outputs": [
    {
     "data": {
      "text/html": [
       "<div>\n",
       "<style scoped>\n",
       "    .dataframe tbody tr th:only-of-type {\n",
       "        vertical-align: middle;\n",
       "    }\n",
       "\n",
       "    .dataframe tbody tr th {\n",
       "        vertical-align: top;\n",
       "    }\n",
       "\n",
       "    .dataframe thead th {\n",
       "        text-align: right;\n",
       "    }\n",
       "</style>\n",
       "<table border=\"1\" class=\"dataframe\">\n",
       "  <thead>\n",
       "    <tr style=\"text-align: right;\">\n",
       "      <th></th>\n",
       "      <th>0</th>\n",
       "    </tr>\n",
       "  </thead>\n",
       "  <tbody>\n",
       "    <tr>\n",
       "      <th>0</th>\n",
       "      <td>+ Naoki Abe</td>\n",
       "    </tr>\n",
       "    <tr>\n",
       "      <th>1</th>\n",
       "      <td>- Myriam Abramson</td>\n",
       "    </tr>\n",
       "    <tr>\n",
       "      <th>2</th>\n",
       "      <td>+ David W. Aha</td>\n",
       "    </tr>\n",
       "    <tr>\n",
       "      <th>3</th>\n",
       "      <td>+ Kamal M. Ali</td>\n",
       "    </tr>\n",
       "    <tr>\n",
       "      <th>4</th>\n",
       "      <td>- Eric Allender</td>\n",
       "    </tr>\n",
       "    <tr>\n",
       "      <th>5</th>\n",
       "      <td>+ Dana Angluin</td>\n",
       "    </tr>\n",
       "    <tr>\n",
       "      <th>6</th>\n",
       "      <td>- Chidanand Apte</td>\n",
       "    </tr>\n",
       "    <tr>\n",
       "      <th>7</th>\n",
       "      <td>+ Minoru Asada</td>\n",
       "    </tr>\n",
       "    <tr>\n",
       "      <th>8</th>\n",
       "      <td>+ Lars Asker</td>\n",
       "    </tr>\n",
       "    <tr>\n",
       "      <th>9</th>\n",
       "      <td>+ Javed Aslam</td>\n",
       "    </tr>\n",
       "    <tr>\n",
       "      <th>10</th>\n",
       "      <td>+ Haralabos Athanassiou</td>\n",
       "    </tr>\n",
       "    <tr>\n",
       "      <th>11</th>\n",
       "      <td>+ Jose L. Balcazar</td>\n",
       "    </tr>\n",
       "    <tr>\n",
       "      <th>12</th>\n",
       "      <td>+ Timothy P. Barber</td>\n",
       "    </tr>\n",
       "    <tr>\n",
       "      <th>13</th>\n",
       "      <td>+ Michael W. Barley</td>\n",
       "    </tr>\n",
       "    <tr>\n",
       "      <th>14</th>\n",
       "      <td>- Cristina Baroglio</td>\n",
       "    </tr>\n",
       "    <tr>\n",
       "      <th>15</th>\n",
       "      <td>+ Peter Bartlett</td>\n",
       "    </tr>\n",
       "    <tr>\n",
       "      <th>16</th>\n",
       "      <td>- Eric Baum</td>\n",
       "    </tr>\n",
       "    <tr>\n",
       "      <th>17</th>\n",
       "      <td>+ Welton Becket</td>\n",
       "    </tr>\n",
       "    <tr>\n",
       "      <th>18</th>\n",
       "      <td>- Shai Ben-David</td>\n",
       "    </tr>\n",
       "    <tr>\n",
       "      <th>19</th>\n",
       "      <td>+ George Berg</td>\n",
       "    </tr>\n",
       "    <tr>\n",
       "      <th>20</th>\n",
       "      <td>+ Neil Berkman</td>\n",
       "    </tr>\n",
       "    <tr>\n",
       "      <th>21</th>\n",
       "      <td>+ Malini Bhandaru</td>\n",
       "    </tr>\n",
       "    <tr>\n",
       "      <th>22</th>\n",
       "      <td>+ Bir Bhanu</td>\n",
       "    </tr>\n",
       "    <tr>\n",
       "      <th>23</th>\n",
       "      <td>+ Reinhard Blasig</td>\n",
       "    </tr>\n",
       "    <tr>\n",
       "      <th>24</th>\n",
       "      <td>- Avrim Blum</td>\n",
       "    </tr>\n",
       "    <tr>\n",
       "      <th>25</th>\n",
       "      <td>- Anselm Blumer</td>\n",
       "    </tr>\n",
       "    <tr>\n",
       "      <th>26</th>\n",
       "      <td>+ Justin Boyan</td>\n",
       "    </tr>\n",
       "    <tr>\n",
       "      <th>27</th>\n",
       "      <td>+ Carla E. Brodley</td>\n",
       "    </tr>\n",
       "    <tr>\n",
       "      <th>28</th>\n",
       "      <td>+ Nader Bshouty</td>\n",
       "    </tr>\n",
       "    <tr>\n",
       "      <th>29</th>\n",
       "      <td>- Wray Buntine</td>\n",
       "    </tr>\n",
       "    <tr>\n",
       "      <th>...</th>\n",
       "      <td>...</td>\n",
       "    </tr>\n",
       "    <tr>\n",
       "      <th>264</th>\n",
       "      <td>- Frank Stephan</td>\n",
       "    </tr>\n",
       "    <tr>\n",
       "      <th>265</th>\n",
       "      <td>+ Mandayam T. Suraj</td>\n",
       "    </tr>\n",
       "    <tr>\n",
       "      <th>266</th>\n",
       "      <td>+ Richard S. Sutton</td>\n",
       "    </tr>\n",
       "    <tr>\n",
       "      <th>267</th>\n",
       "      <td>+ Joe Suzuki</td>\n",
       "    </tr>\n",
       "    <tr>\n",
       "      <th>268</th>\n",
       "      <td>- Prasad Tadepalli</td>\n",
       "    </tr>\n",
       "    <tr>\n",
       "      <th>269</th>\n",
       "      <td>+ Hiroshi Tanaka</td>\n",
       "    </tr>\n",
       "    <tr>\n",
       "      <th>270</th>\n",
       "      <td>- Irina Tchoumatchenko</td>\n",
       "    </tr>\n",
       "    <tr>\n",
       "      <th>271</th>\n",
       "      <td>- Brian Tester</td>\n",
       "    </tr>\n",
       "    <tr>\n",
       "      <th>272</th>\n",
       "      <td>- Chen K. Tham</td>\n",
       "    </tr>\n",
       "    <tr>\n",
       "      <th>273</th>\n",
       "      <td>+ Tatsuo Unemi</td>\n",
       "    </tr>\n",
       "    <tr>\n",
       "      <th>274</th>\n",
       "      <td>- Lyle H. Ungar</td>\n",
       "    </tr>\n",
       "    <tr>\n",
       "      <th>275</th>\n",
       "      <td>+ Paul Utgoff</td>\n",
       "    </tr>\n",
       "    <tr>\n",
       "      <th>276</th>\n",
       "      <td>+ Karsten Verbeurgt</td>\n",
       "    </tr>\n",
       "    <tr>\n",
       "      <th>277</th>\n",
       "      <td>+ Paul Vitanyi</td>\n",
       "    </tr>\n",
       "    <tr>\n",
       "      <th>278</th>\n",
       "      <td>+ Xuemei Wang</td>\n",
       "    </tr>\n",
       "    <tr>\n",
       "      <th>279</th>\n",
       "      <td>+ Manfred Warmuth</td>\n",
       "    </tr>\n",
       "    <tr>\n",
       "      <th>280</th>\n",
       "      <td>+ Gary Weiss</td>\n",
       "    </tr>\n",
       "    <tr>\n",
       "      <th>281</th>\n",
       "      <td>- Sholom Weiss</td>\n",
       "    </tr>\n",
       "    <tr>\n",
       "      <th>282</th>\n",
       "      <td>- Thomas Wengerek</td>\n",
       "    </tr>\n",
       "    <tr>\n",
       "      <th>283</th>\n",
       "      <td>- Bradley L. Whitehall</td>\n",
       "    </tr>\n",
       "    <tr>\n",
       "      <th>284</th>\n",
       "      <td>- Alma Whitten</td>\n",
       "    </tr>\n",
       "    <tr>\n",
       "      <th>285</th>\n",
       "      <td>+ Robert Williamson</td>\n",
       "    </tr>\n",
       "    <tr>\n",
       "      <th>286</th>\n",
       "      <td>+ Janusz Wnek</td>\n",
       "    </tr>\n",
       "    <tr>\n",
       "      <th>287</th>\n",
       "      <td>+ Kenji Yamanishi</td>\n",
       "    </tr>\n",
       "    <tr>\n",
       "      <th>288</th>\n",
       "      <td>+ Takefumi Yamazaki</td>\n",
       "    </tr>\n",
       "    <tr>\n",
       "      <th>289</th>\n",
       "      <td>+ Holly Yanco</td>\n",
       "    </tr>\n",
       "    <tr>\n",
       "      <th>290</th>\n",
       "      <td>+ John M. Zelle</td>\n",
       "    </tr>\n",
       "    <tr>\n",
       "      <th>291</th>\n",
       "      <td>- Thomas Zeugmann</td>\n",
       "    </tr>\n",
       "    <tr>\n",
       "      <th>292</th>\n",
       "      <td>+ Jean-Daniel Zucker</td>\n",
       "    </tr>\n",
       "    <tr>\n",
       "      <th>293</th>\n",
       "      <td>+ Darko Zupanic</td>\n",
       "    </tr>\n",
       "  </tbody>\n",
       "</table>\n",
       "<p>294 rows × 1 columns</p>\n",
       "</div>"
      ],
      "text/plain": [
       "                           0\n",
       "0                + Naoki Abe\n",
       "1          - Myriam Abramson\n",
       "2             + David W. Aha\n",
       "3             + Kamal M. Ali\n",
       "4            - Eric Allender\n",
       "5             + Dana Angluin\n",
       "6           - Chidanand Apte\n",
       "7             + Minoru Asada\n",
       "8               + Lars Asker\n",
       "9              + Javed Aslam\n",
       "10   + Haralabos Athanassiou\n",
       "11        + Jose L. Balcazar\n",
       "12       + Timothy P. Barber\n",
       "13       + Michael W. Barley\n",
       "14       - Cristina Baroglio\n",
       "15          + Peter Bartlett\n",
       "16               - Eric Baum\n",
       "17           + Welton Becket\n",
       "18          - Shai Ben-David\n",
       "19             + George Berg\n",
       "20            + Neil Berkman\n",
       "21         + Malini Bhandaru\n",
       "22               + Bir Bhanu\n",
       "23         + Reinhard Blasig\n",
       "24              - Avrim Blum\n",
       "25           - Anselm Blumer\n",
       "26            + Justin Boyan\n",
       "27        + Carla E. Brodley\n",
       "28           + Nader Bshouty\n",
       "29            - Wray Buntine\n",
       "..                       ...\n",
       "264          - Frank Stephan\n",
       "265      + Mandayam T. Suraj\n",
       "266      + Richard S. Sutton\n",
       "267             + Joe Suzuki\n",
       "268       - Prasad Tadepalli\n",
       "269         + Hiroshi Tanaka\n",
       "270   - Irina Tchoumatchenko\n",
       "271           - Brian Tester\n",
       "272           - Chen K. Tham\n",
       "273           + Tatsuo Unemi\n",
       "274          - Lyle H. Ungar\n",
       "275            + Paul Utgoff\n",
       "276      + Karsten Verbeurgt\n",
       "277           + Paul Vitanyi\n",
       "278            + Xuemei Wang\n",
       "279        + Manfred Warmuth\n",
       "280             + Gary Weiss\n",
       "281           - Sholom Weiss\n",
       "282        - Thomas Wengerek\n",
       "283   - Bradley L. Whitehall\n",
       "284           - Alma Whitten\n",
       "285      + Robert Williamson\n",
       "286            + Janusz Wnek\n",
       "287        + Kenji Yamanishi\n",
       "288      + Takefumi Yamazaki\n",
       "289            + Holly Yanco\n",
       "290          + John M. Zelle\n",
       "291        - Thomas Zeugmann\n",
       "292     + Jean-Daniel Zucker\n",
       "293          + Darko Zupanic\n",
       "\n",
       "[294 rows x 1 columns]"
      ]
     },
     "execution_count": 9,
     "metadata": {},
     "output_type": "execute_result"
    }
   ],
   "source": [
    "name"
   ]
  },
  {
   "cell_type": "code",
   "execution_count": 18,
   "metadata": {},
   "outputs": [],
   "source": [
    "name.columns = ['names']"
   ]
  },
  {
   "cell_type": "code",
   "execution_count": 19,
   "metadata": {},
   "outputs": [
    {
     "data": {
      "text/html": [
       "<div>\n",
       "<style scoped>\n",
       "    .dataframe tbody tr th:only-of-type {\n",
       "        vertical-align: middle;\n",
       "    }\n",
       "\n",
       "    .dataframe tbody tr th {\n",
       "        vertical-align: top;\n",
       "    }\n",
       "\n",
       "    .dataframe thead th {\n",
       "        text-align: right;\n",
       "    }\n",
       "</style>\n",
       "<table border=\"1\" class=\"dataframe\">\n",
       "  <thead>\n",
       "    <tr style=\"text-align: right;\">\n",
       "      <th></th>\n",
       "      <th>names</th>\n",
       "    </tr>\n",
       "  </thead>\n",
       "  <tbody>\n",
       "    <tr>\n",
       "      <th>0</th>\n",
       "      <td>+ Naoki Abe</td>\n",
       "    </tr>\n",
       "    <tr>\n",
       "      <th>1</th>\n",
       "      <td>- Myriam Abramson</td>\n",
       "    </tr>\n",
       "  </tbody>\n",
       "</table>\n",
       "</div>"
      ],
      "text/plain": [
       "               names\n",
       "0        + Naoki Abe\n",
       "1  - Myriam Abramson"
      ]
     },
     "execution_count": 19,
     "metadata": {},
     "output_type": "execute_result"
    }
   ],
   "source": [
    "name.head(2)"
   ]
  },
  {
   "cell_type": "code",
   "execution_count": 10,
   "metadata": {},
   "outputs": [],
   "source": [
    "def firstname(allname):\n",
    "    firstname = allname.split()[1]\n",
    "    return firstname\n",
    "\n",
    "def midname(allname):\n",
    "    if allname.split()[2][1] ==  '.':\n",
    "        middlename = allname.split()[2]\n",
    "        return middlename\n",
    "    \n",
    "def lastname(allname):\n",
    "    if allname.split()[2][1] ==  '.':\n",
    "        lastname = allname.split()[3]    \n",
    "    else:\n",
    "        lastname = allname.split()[2]\n",
    "    return lastname\n",
    "\n",
    "def label(allname):\n",
    "    label = allname.split()[0]\n",
    "    return label"
   ]
  },
  {
   "cell_type": "code",
   "execution_count": 20,
   "metadata": {},
   "outputs": [
    {
     "data": {
      "text/plain": [
       "'Whitehall'"
      ]
     },
     "execution_count": 20,
     "metadata": {},
     "output_type": "execute_result"
    }
   ],
   "source": [
    "lastname('+ Bradley L. Whitehall')"
   ]
  },
  {
   "cell_type": "code",
   "execution_count": 21,
   "metadata": {},
   "outputs": [],
   "source": [
    "name['first name'] = name['names'].apply(lambda x: firstname(x))"
   ]
  },
  {
   "cell_type": "code",
   "execution_count": 22,
   "metadata": {},
   "outputs": [],
   "source": [
    "name['middle name'] = name['names'].apply(lambda x: midname(x))"
   ]
  },
  {
   "cell_type": "code",
   "execution_count": 23,
   "metadata": {},
   "outputs": [],
   "source": [
    "name['last name'] = name['names'].apply(lambda x: lastname(x))"
   ]
  },
  {
   "cell_type": "code",
   "execution_count": 24,
   "metadata": {},
   "outputs": [],
   "source": [
    "name['label'] = name['names'].apply(lambda x: label(x))"
   ]
  },
  {
   "cell_type": "code",
   "execution_count": 26,
   "metadata": {},
   "outputs": [
    {
     "data": {
      "text/html": [
       "<div>\n",
       "<style scoped>\n",
       "    .dataframe tbody tr th:only-of-type {\n",
       "        vertical-align: middle;\n",
       "    }\n",
       "\n",
       "    .dataframe tbody tr th {\n",
       "        vertical-align: top;\n",
       "    }\n",
       "\n",
       "    .dataframe thead th {\n",
       "        text-align: right;\n",
       "    }\n",
       "</style>\n",
       "<table border=\"1\" class=\"dataframe\">\n",
       "  <thead>\n",
       "    <tr style=\"text-align: right;\">\n",
       "      <th></th>\n",
       "      <th>names</th>\n",
       "      <th>first name</th>\n",
       "      <th>middle name</th>\n",
       "      <th>last name</th>\n",
       "      <th>label</th>\n",
       "    </tr>\n",
       "  </thead>\n",
       "  <tbody>\n",
       "    <tr>\n",
       "      <th>0</th>\n",
       "      <td>+ Naoki Abe</td>\n",
       "      <td>Naoki</td>\n",
       "      <td>None</td>\n",
       "      <td>Abe</td>\n",
       "      <td>+</td>\n",
       "    </tr>\n",
       "    <tr>\n",
       "      <th>1</th>\n",
       "      <td>- Myriam Abramson</td>\n",
       "      <td>Myriam</td>\n",
       "      <td>None</td>\n",
       "      <td>Abramson</td>\n",
       "      <td>-</td>\n",
       "    </tr>\n",
       "    <tr>\n",
       "      <th>2</th>\n",
       "      <td>+ David W. Aha</td>\n",
       "      <td>David</td>\n",
       "      <td>W.</td>\n",
       "      <td>Aha</td>\n",
       "      <td>+</td>\n",
       "    </tr>\n",
       "    <tr>\n",
       "      <th>3</th>\n",
       "      <td>+ Kamal M. Ali</td>\n",
       "      <td>Kamal</td>\n",
       "      <td>M.</td>\n",
       "      <td>Ali</td>\n",
       "      <td>+</td>\n",
       "    </tr>\n",
       "    <tr>\n",
       "      <th>4</th>\n",
       "      <td>- Eric Allender</td>\n",
       "      <td>Eric</td>\n",
       "      <td>None</td>\n",
       "      <td>Allender</td>\n",
       "      <td>-</td>\n",
       "    </tr>\n",
       "  </tbody>\n",
       "</table>\n",
       "</div>"
      ],
      "text/plain": [
       "               names first name middle name last name label\n",
       "0        + Naoki Abe      Naoki        None       Abe     +\n",
       "1  - Myriam Abramson     Myriam        None  Abramson     -\n",
       "2     + David W. Aha      David          W.       Aha     +\n",
       "3     + Kamal M. Ali      Kamal          M.       Ali     +\n",
       "4    - Eric Allender       Eric        None  Allender     -"
      ]
     },
     "execution_count": 26,
     "metadata": {},
     "output_type": "execute_result"
    }
   ],
   "source": [
    "name.head()"
   ]
  },
  {
   "cell_type": "code",
   "execution_count": 28,
   "metadata": {},
   "outputs": [
    {
     "name": "stdout",
     "output_type": "stream",
     "text": [
      "<class 'pandas.core.frame.DataFrame'>\n",
      "RangeIndex: 294 entries, 0 to 293\n",
      "Data columns (total 5 columns):\n",
      "names          294 non-null object\n",
      "first name     294 non-null object\n",
      "middle name    61 non-null object\n",
      "last name      294 non-null object\n",
      "label          294 non-null object\n",
      "dtypes: object(5)\n",
      "memory usage: 11.6+ KB\n"
     ]
    }
   ],
   "source": [
    "name.info()"
   ]
  },
  {
   "cell_type": "code",
   "execution_count": 37,
   "metadata": {},
   "outputs": [],
   "source": [
    "def remove_none(name):\n",
    "    \n",
    "    if name is None:\n",
    "        return ''\n",
    "    else:\n",
    "        return name"
   ]
  },
  {
   "cell_type": "code",
   "execution_count": 38,
   "metadata": {},
   "outputs": [],
   "source": [
    "name['middle name'] = name['middle name'].apply(remove_none)"
   ]
  },
  {
   "cell_type": "code",
   "execution_count": 40,
   "metadata": {},
   "outputs": [
    {
     "data": {
      "text/html": [
       "<div>\n",
       "<style scoped>\n",
       "    .dataframe tbody tr th:only-of-type {\n",
       "        vertical-align: middle;\n",
       "    }\n",
       "\n",
       "    .dataframe tbody tr th {\n",
       "        vertical-align: top;\n",
       "    }\n",
       "\n",
       "    .dataframe thead th {\n",
       "        text-align: right;\n",
       "    }\n",
       "</style>\n",
       "<table border=\"1\" class=\"dataframe\">\n",
       "  <thead>\n",
       "    <tr style=\"text-align: right;\">\n",
       "      <th></th>\n",
       "      <th>names</th>\n",
       "      <th>first name</th>\n",
       "      <th>middle name</th>\n",
       "      <th>last name</th>\n",
       "      <th>label</th>\n",
       "    </tr>\n",
       "  </thead>\n",
       "  <tbody>\n",
       "    <tr>\n",
       "      <th>0</th>\n",
       "      <td>+ Naoki Abe</td>\n",
       "      <td>Naoki</td>\n",
       "      <td></td>\n",
       "      <td>Abe</td>\n",
       "      <td>+</td>\n",
       "    </tr>\n",
       "    <tr>\n",
       "      <th>1</th>\n",
       "      <td>- Myriam Abramson</td>\n",
       "      <td>Myriam</td>\n",
       "      <td></td>\n",
       "      <td>Abramson</td>\n",
       "      <td>-</td>\n",
       "    </tr>\n",
       "    <tr>\n",
       "      <th>2</th>\n",
       "      <td>+ David W. Aha</td>\n",
       "      <td>David</td>\n",
       "      <td>W.</td>\n",
       "      <td>Aha</td>\n",
       "      <td>+</td>\n",
       "    </tr>\n",
       "    <tr>\n",
       "      <th>3</th>\n",
       "      <td>+ Kamal M. Ali</td>\n",
       "      <td>Kamal</td>\n",
       "      <td>M.</td>\n",
       "      <td>Ali</td>\n",
       "      <td>+</td>\n",
       "    </tr>\n",
       "    <tr>\n",
       "      <th>4</th>\n",
       "      <td>- Eric Allender</td>\n",
       "      <td>Eric</td>\n",
       "      <td></td>\n",
       "      <td>Allender</td>\n",
       "      <td>-</td>\n",
       "    </tr>\n",
       "  </tbody>\n",
       "</table>\n",
       "</div>"
      ],
      "text/plain": [
       "               names first name middle name last name label\n",
       "0        + Naoki Abe      Naoki                   Abe     +\n",
       "1  - Myriam Abramson     Myriam              Abramson     -\n",
       "2     + David W. Aha      David          W.       Aha     +\n",
       "3     + Kamal M. Ali      Kamal          M.       Ali     +\n",
       "4    - Eric Allender       Eric              Allender     -"
      ]
     },
     "execution_count": 40,
     "metadata": {},
     "output_type": "execute_result"
    }
   ],
   "source": [
    "name.head()"
   ]
  },
  {
   "cell_type": "code",
   "execution_count": 41,
   "metadata": {},
   "outputs": [],
   "source": [
    "name['length of first'] = name['first name'].apply(len)\n",
    "\n",
    "name['length of last'] = name['last name'].apply(len)"
   ]
  },
  {
   "cell_type": "code",
   "execution_count": 45,
   "metadata": {},
   "outputs": [
    {
     "data": {
      "text/html": [
       "<div>\n",
       "<style scoped>\n",
       "    .dataframe tbody tr th:only-of-type {\n",
       "        vertical-align: middle;\n",
       "    }\n",
       "\n",
       "    .dataframe tbody tr th {\n",
       "        vertical-align: top;\n",
       "    }\n",
       "\n",
       "    .dataframe thead th {\n",
       "        text-align: right;\n",
       "    }\n",
       "</style>\n",
       "<table border=\"1\" class=\"dataframe\">\n",
       "  <thead>\n",
       "    <tr style=\"text-align: right;\">\n",
       "      <th></th>\n",
       "      <th>names</th>\n",
       "      <th>first name</th>\n",
       "      <th>middle name</th>\n",
       "      <th>last name</th>\n",
       "      <th>label</th>\n",
       "      <th>length of first</th>\n",
       "      <th>length of last</th>\n",
       "    </tr>\n",
       "  </thead>\n",
       "  <tbody>\n",
       "    <tr>\n",
       "      <th>0</th>\n",
       "      <td>+ Naoki Abe</td>\n",
       "      <td>Naoki</td>\n",
       "      <td></td>\n",
       "      <td>Abe</td>\n",
       "      <td>+</td>\n",
       "      <td>5</td>\n",
       "      <td>3</td>\n",
       "    </tr>\n",
       "    <tr>\n",
       "      <th>1</th>\n",
       "      <td>- Myriam Abramson</td>\n",
       "      <td>Myriam</td>\n",
       "      <td></td>\n",
       "      <td>Abramson</td>\n",
       "      <td>-</td>\n",
       "      <td>6</td>\n",
       "      <td>8</td>\n",
       "    </tr>\n",
       "    <tr>\n",
       "      <th>2</th>\n",
       "      <td>+ David W. Aha</td>\n",
       "      <td>David</td>\n",
       "      <td>W.</td>\n",
       "      <td>Aha</td>\n",
       "      <td>+</td>\n",
       "      <td>5</td>\n",
       "      <td>3</td>\n",
       "    </tr>\n",
       "    <tr>\n",
       "      <th>3</th>\n",
       "      <td>+ Kamal M. Ali</td>\n",
       "      <td>Kamal</td>\n",
       "      <td>M.</td>\n",
       "      <td>Ali</td>\n",
       "      <td>+</td>\n",
       "      <td>5</td>\n",
       "      <td>3</td>\n",
       "    </tr>\n",
       "    <tr>\n",
       "      <th>4</th>\n",
       "      <td>- Eric Allender</td>\n",
       "      <td>Eric</td>\n",
       "      <td></td>\n",
       "      <td>Allender</td>\n",
       "      <td>-</td>\n",
       "      <td>4</td>\n",
       "      <td>8</td>\n",
       "    </tr>\n",
       "  </tbody>\n",
       "</table>\n",
       "</div>"
      ],
      "text/plain": [
       "               names first name middle name last name label  length of first  \\\n",
       "0        + Naoki Abe      Naoki                   Abe     +                5   \n",
       "1  - Myriam Abramson     Myriam              Abramson     -                6   \n",
       "2     + David W. Aha      David          W.       Aha     +                5   \n",
       "3     + Kamal M. Ali      Kamal          M.       Ali     +                5   \n",
       "4    - Eric Allender       Eric              Allender     -                4   \n",
       "\n",
       "   length of last  \n",
       "0               3  \n",
       "1               8  \n",
       "2               3  \n",
       "3               3  \n",
       "4               8  "
      ]
     },
     "execution_count": 45,
     "metadata": {},
     "output_type": "execute_result"
    }
   ],
   "source": [
    "names = name\n",
    "\n",
    "names.head()"
   ]
  },
  {
   "cell_type": "code",
   "execution_count": null,
   "metadata": {},
   "outputs": [],
   "source": []
  },
  {
   "cell_type": "code",
   "execution_count": 46,
   "metadata": {},
   "outputs": [],
   "source": [
    "def countVowels(name):\n",
    "    namevowels = []\n",
    "    vowels = ['A','a','E','e','I','i','O','o','U','u']\n",
    "    for letter in name:\n",
    "        if letter in vowels:\n",
    "            namevowels.append(letter)\n",
    "    return len(namevowels)"
   ]
  },
  {
   "cell_type": "code",
   "execution_count": 110,
   "metadata": {},
   "outputs": [
    {
     "data": {
      "text/plain": [
       "2"
      ]
     },
     "execution_count": 110,
     "metadata": {},
     "output_type": "execute_result"
    }
   ],
   "source": [
    "countVowels('Michel')"
   ]
  },
  {
   "cell_type": "code",
   "execution_count": 47,
   "metadata": {},
   "outputs": [],
   "source": [
    "def countCons(name):\n",
    "    namecons = []\n",
    "    vowels = ['A','a','E','e','I','i','O','o','U','u']\n",
    "    for letter in name:\n",
    "        if letter not in vowels:\n",
    "            namecons.append(letter)\n",
    "    return len(namecons)"
   ]
  },
  {
   "cell_type": "code",
   "execution_count": 109,
   "metadata": {},
   "outputs": [],
   "source": [
    "vowels = ['A','a','E','e','I','i','O','o','U','u']"
   ]
  },
  {
   "cell_type": "code",
   "execution_count": 122,
   "metadata": {},
   "outputs": [
    {
     "data": {
      "text/plain": [
       "10"
      ]
     },
     "execution_count": 122,
     "metadata": {},
     "output_type": "execute_result"
    }
   ],
   "source": [
    "countCons('Michael' + 'Acheampong')"
   ]
  },
  {
   "cell_type": "code",
   "execution_count": 48,
   "metadata": {},
   "outputs": [
    {
     "data": {
      "text/html": [
       "<div>\n",
       "<style scoped>\n",
       "    .dataframe tbody tr th:only-of-type {\n",
       "        vertical-align: middle;\n",
       "    }\n",
       "\n",
       "    .dataframe tbody tr th {\n",
       "        vertical-align: top;\n",
       "    }\n",
       "\n",
       "    .dataframe thead th {\n",
       "        text-align: right;\n",
       "    }\n",
       "</style>\n",
       "<table border=\"1\" class=\"dataframe\">\n",
       "  <thead>\n",
       "    <tr style=\"text-align: right;\">\n",
       "      <th></th>\n",
       "      <th>names</th>\n",
       "      <th>first name</th>\n",
       "      <th>middle name</th>\n",
       "      <th>last name</th>\n",
       "      <th>label</th>\n",
       "      <th>length of first</th>\n",
       "      <th>length of last</th>\n",
       "    </tr>\n",
       "  </thead>\n",
       "  <tbody>\n",
       "    <tr>\n",
       "      <th>0</th>\n",
       "      <td>+ Naoki Abe</td>\n",
       "      <td>Naoki</td>\n",
       "      <td></td>\n",
       "      <td>Abe</td>\n",
       "      <td>+</td>\n",
       "      <td>5</td>\n",
       "      <td>3</td>\n",
       "    </tr>\n",
       "    <tr>\n",
       "      <th>1</th>\n",
       "      <td>- Myriam Abramson</td>\n",
       "      <td>Myriam</td>\n",
       "      <td></td>\n",
       "      <td>Abramson</td>\n",
       "      <td>-</td>\n",
       "      <td>6</td>\n",
       "      <td>8</td>\n",
       "    </tr>\n",
       "  </tbody>\n",
       "</table>\n",
       "</div>"
      ],
      "text/plain": [
       "               names first name middle name last name label  length of first  \\\n",
       "0        + Naoki Abe      Naoki                   Abe     +                5   \n",
       "1  - Myriam Abramson     Myriam              Abramson     -                6   \n",
       "\n",
       "   length of last  \n",
       "0               3  \n",
       "1               8  "
      ]
     },
     "execution_count": 48,
     "metadata": {},
     "output_type": "execute_result"
    }
   ],
   "source": [
    "names.head(2)"
   ]
  },
  {
   "cell_type": "code",
   "execution_count": 49,
   "metadata": {},
   "outputs": [],
   "source": [
    "names['firstvowels'] = names['first name'].apply(countVowels)"
   ]
  },
  {
   "cell_type": "code",
   "execution_count": 50,
   "metadata": {},
   "outputs": [],
   "source": [
    "names['firstCons'] = names['first name'].apply(countCons)"
   ]
  },
  {
   "cell_type": "code",
   "execution_count": 51,
   "metadata": {},
   "outputs": [],
   "source": [
    "names['lastvowels'] = names['last name'].apply(countVowels)"
   ]
  },
  {
   "cell_type": "code",
   "execution_count": 52,
   "metadata": {},
   "outputs": [],
   "source": [
    "names['lastCons'] = names['last name'].apply(countCons)"
   ]
  },
  {
   "cell_type": "code",
   "execution_count": 58,
   "metadata": {},
   "outputs": [
    {
     "data": {
      "text/html": [
       "<div>\n",
       "<style scoped>\n",
       "    .dataframe tbody tr th:only-of-type {\n",
       "        vertical-align: middle;\n",
       "    }\n",
       "\n",
       "    .dataframe tbody tr th {\n",
       "        vertical-align: top;\n",
       "    }\n",
       "\n",
       "    .dataframe thead th {\n",
       "        text-align: right;\n",
       "    }\n",
       "</style>\n",
       "<table border=\"1\" class=\"dataframe\">\n",
       "  <thead>\n",
       "    <tr style=\"text-align: right;\">\n",
       "      <th></th>\n",
       "      <th>first name</th>\n",
       "      <th>middle name</th>\n",
       "      <th>last name</th>\n",
       "      <th>label</th>\n",
       "      <th>length of first</th>\n",
       "      <th>length of last</th>\n",
       "      <th>firstvowels</th>\n",
       "      <th>firstCons</th>\n",
       "      <th>lastvowels</th>\n",
       "      <th>lastCons</th>\n",
       "    </tr>\n",
       "  </thead>\n",
       "  <tbody>\n",
       "    <tr>\n",
       "      <th>0</th>\n",
       "      <td>Naoki</td>\n",
       "      <td></td>\n",
       "      <td>Abe</td>\n",
       "      <td>+</td>\n",
       "      <td>5</td>\n",
       "      <td>3</td>\n",
       "      <td>3</td>\n",
       "      <td>2</td>\n",
       "      <td>2</td>\n",
       "      <td>1</td>\n",
       "    </tr>\n",
       "    <tr>\n",
       "      <th>1</th>\n",
       "      <td>Myriam</td>\n",
       "      <td></td>\n",
       "      <td>Abramson</td>\n",
       "      <td>-</td>\n",
       "      <td>6</td>\n",
       "      <td>8</td>\n",
       "      <td>2</td>\n",
       "      <td>4</td>\n",
       "      <td>3</td>\n",
       "      <td>5</td>\n",
       "    </tr>\n",
       "  </tbody>\n",
       "</table>\n",
       "</div>"
      ],
      "text/plain": [
       "  first name middle name last name label  length of first  length of last  \\\n",
       "0      Naoki                   Abe     +                5               3   \n",
       "1     Myriam              Abramson     -                6               8   \n",
       "\n",
       "   firstvowels  firstCons  lastvowels  lastCons  \n",
       "0            3          2           2         1  \n",
       "1            2          4           3         5  "
      ]
     },
     "execution_count": 58,
     "metadata": {},
     "output_type": "execute_result"
    }
   ],
   "source": [
    "names.head(2)"
   ]
  },
  {
   "cell_type": "code",
   "execution_count": 59,
   "metadata": {},
   "outputs": [],
   "source": [
    "def middlenamedummy(name):\n",
    "    \n",
    "    if name == '':\n",
    "        return 0\n",
    "    else:\n",
    "        return 1"
   ]
  },
  {
   "cell_type": "code",
   "execution_count": 61,
   "metadata": {},
   "outputs": [],
   "source": [
    "names['middledummy'] = names['middle name'].apply(middlenamedummy)\n",
    "\n",
    "# is there a middle name?"
   ]
  },
  {
   "cell_type": "code",
   "execution_count": 62,
   "metadata": {},
   "outputs": [],
   "source": [
    "names['totalVowels'] = (names['first name'] + names['middle name'] + names['last name']).apply(countVowels)\n",
    "\n",
    "# count the number of vowels in the name"
   ]
  },
  {
   "cell_type": "code",
   "execution_count": 63,
   "metadata": {},
   "outputs": [],
   "source": [
    "names['totalCons'] = (names['first name'] + names['middle name'] + names['last name']).apply(countCons)\n",
    "\n",
    "# count the number of consonants in the name"
   ]
  },
  {
   "cell_type": "code",
   "execution_count": 65,
   "metadata": {},
   "outputs": [],
   "source": [
    "names['VtFratio'] = names['totalVowels']/(names['totalVowels']+names['totalCons']) # ratio of number of vowels to total length\n",
    "\n",
    "names['CtFratio'] = names['totalCons']/(names['totalVowels']+names['totalCons']) # ratio of number of consonants to total length\n",
    "\n",
    "names['VtCratio'] = names['totalVowels']/names['totalCons'] # ratio of number of vowels to number of consonants"
   ]
  },
  {
   "cell_type": "code",
   "execution_count": 95,
   "metadata": {},
   "outputs": [],
   "source": [
    "names['FtVratio'] = round((names['totalVowels']+names['totalCons'])/names['totalVowels'],0) # ratio of total length to number of vowels\n",
    "\n",
    "names['FtCratio'] = round((names['totalVowels']+names['totalCons'])/names['totalCons'],0) # ratio of total length to number of consonants\n",
    "\n",
    "names['CtVratio'] = round(names['totalCons']/names['totalVowels'],0) # ratio of consonants to vowels"
   ]
  },
  {
   "cell_type": "code",
   "execution_count": 103,
   "metadata": {},
   "outputs": [],
   "source": [
    "# DUMMIES BASED ON EVEN\n",
    "\n",
    "# Is the total length an even number?\n",
    "names['tot_lengthdummy'] = (names['totalVowels']+names['totalCons']).apply(lambda x: 1 if x%2 == 0 else 0)\n",
    "\n",
    "# Is the length of first name an even number?\n",
    "names['LoFdummy'] = names['length of first'].apply(lambda x: 1 if x%2 == 0 else 0)\n",
    "\n",
    "# Is the length of last name an even number?\n",
    "names['LoLdummy'] = names['length of last'].apply(lambda x: 1 if x%2 == 0 else 0)\n",
    "\n",
    "# Is the number of vowels in first name even?\n",
    "names['FVdummy'] = names['firstvowels'].apply(lambda x: 1 if x%2 == 0 else 0)\n",
    "\n",
    "# Is the number of cons in first name even?\n",
    "names['FCdummy'] = names['firstCons'].apply(lambda x: 1 if x%2 == 0 else 0)\n",
    "\n",
    "# Is the number of vowels in last name even?\n",
    "names['LVdummy'] = names['lastvowels'].apply(lambda x: 1 if x%2 == 0 else 0)\n",
    "\n",
    "# Is the number of cons in last name even?\n",
    "names['LCdummy'] = names['lastCons'].apply(lambda x: 1 if x%2 == 0 else 0)\n",
    "\n",
    "# Is the total number of vowels in name even?\n",
    "names['TVdummy'] = names['totalVowels'].apply(lambda x: 1 if x%2 == 0 else 0)\n",
    "\n",
    "# Is the total number of cons in name even?\n",
    "names['TCdummy'] = names['totalCons'].apply(lambda x: 1 if x%2 == 0 else 0)\n",
    "\n",
    "# Is the ratio of length of full name to number of vowels even?\n",
    "names['FtVdummy'] = names['FtVratio'].apply(lambda x: 1 if x%2 == 0 else 0)\n",
    "\n",
    "# Is the ratio of length of full name to number of consonants even?\n",
    "names['FtCdummy'] = names['FtCratio'].apply(lambda x: 1 if x%2 == 0 else 0)\n",
    "\n",
    "# Is the ratio of consonants to number of vowels even?\n",
    "names['CtVdummy'] = names['FtCratio'].apply(lambda x: 1 if x%2 == 0 else 0)"
   ]
  },
  {
   "cell_type": "code",
   "execution_count": 107,
   "metadata": {},
   "outputs": [],
   "source": [
    "names['total_length'] = (names['totalVowels']+names['totalCons']) # total length of name"
   ]
  },
  {
   "cell_type": "code",
   "execution_count": 110,
   "metadata": {},
   "outputs": [],
   "source": [
    "names['Vowel_Fdummy'] = names['first name'].apply(lambda x: 1 if x[0] in vowels else 0) # Is first letter in name a vowel?\n",
    "\n",
    "names['Vowel_Sdummy'] = names['first name'].apply(lambda x: 1 if x[1] in vowels else 0) # Is second a letter in name a vowel?"
   ]
  },
  {
   "cell_type": "markdown",
   "metadata": {},
   "source": [
    "# As you can see, I threw in everything including the kitchen sink \n",
    "\n",
    "I ended up with 33 unique predictor variables"
   ]
  },
  {
   "cell_type": "code",
   "execution_count": 111,
   "metadata": {},
   "outputs": [
    {
     "data": {
      "text/html": [
       "<div>\n",
       "<style scoped>\n",
       "    .dataframe tbody tr th:only-of-type {\n",
       "        vertical-align: middle;\n",
       "    }\n",
       "\n",
       "    .dataframe tbody tr th {\n",
       "        vertical-align: top;\n",
       "    }\n",
       "\n",
       "    .dataframe thead th {\n",
       "        text-align: right;\n",
       "    }\n",
       "</style>\n",
       "<table border=\"1\" class=\"dataframe\">\n",
       "  <thead>\n",
       "    <tr style=\"text-align: right;\">\n",
       "      <th></th>\n",
       "      <th>first name</th>\n",
       "      <th>middle name</th>\n",
       "      <th>last name</th>\n",
       "      <th>label</th>\n",
       "      <th>length of first</th>\n",
       "      <th>length of last</th>\n",
       "      <th>firstvowels</th>\n",
       "      <th>firstCons</th>\n",
       "      <th>lastvowels</th>\n",
       "      <th>lastCons</th>\n",
       "      <th>...</th>\n",
       "      <th>LVdummy</th>\n",
       "      <th>LCdummy</th>\n",
       "      <th>TVdummy</th>\n",
       "      <th>TCdummy</th>\n",
       "      <th>FtVdummy</th>\n",
       "      <th>FtCdummy</th>\n",
       "      <th>CtVdummy</th>\n",
       "      <th>total_length</th>\n",
       "      <th>Vowel_Fdummy</th>\n",
       "      <th>Vowel_Sdummy</th>\n",
       "    </tr>\n",
       "  </thead>\n",
       "  <tbody>\n",
       "    <tr>\n",
       "      <th>0</th>\n",
       "      <td>Naoki</td>\n",
       "      <td></td>\n",
       "      <td>Abe</td>\n",
       "      <td>+</td>\n",
       "      <td>5</td>\n",
       "      <td>3</td>\n",
       "      <td>3</td>\n",
       "      <td>2</td>\n",
       "      <td>2</td>\n",
       "      <td>1</td>\n",
       "      <td>...</td>\n",
       "      <td>1</td>\n",
       "      <td>0</td>\n",
       "      <td>0</td>\n",
       "      <td>0</td>\n",
       "      <td>1</td>\n",
       "      <td>0</td>\n",
       "      <td>0</td>\n",
       "      <td>8</td>\n",
       "      <td>0</td>\n",
       "      <td>1</td>\n",
       "    </tr>\n",
       "    <tr>\n",
       "      <th>1</th>\n",
       "      <td>Myriam</td>\n",
       "      <td></td>\n",
       "      <td>Abramson</td>\n",
       "      <td>-</td>\n",
       "      <td>6</td>\n",
       "      <td>8</td>\n",
       "      <td>2</td>\n",
       "      <td>4</td>\n",
       "      <td>3</td>\n",
       "      <td>5</td>\n",
       "      <td>...</td>\n",
       "      <td>0</td>\n",
       "      <td>0</td>\n",
       "      <td>0</td>\n",
       "      <td>0</td>\n",
       "      <td>0</td>\n",
       "      <td>1</td>\n",
       "      <td>1</td>\n",
       "      <td>14</td>\n",
       "      <td>0</td>\n",
       "      <td>0</td>\n",
       "    </tr>\n",
       "    <tr>\n",
       "      <th>2</th>\n",
       "      <td>David</td>\n",
       "      <td>W.</td>\n",
       "      <td>Aha</td>\n",
       "      <td>+</td>\n",
       "      <td>5</td>\n",
       "      <td>3</td>\n",
       "      <td>2</td>\n",
       "      <td>3</td>\n",
       "      <td>2</td>\n",
       "      <td>1</td>\n",
       "      <td>...</td>\n",
       "      <td>1</td>\n",
       "      <td>0</td>\n",
       "      <td>1</td>\n",
       "      <td>1</td>\n",
       "      <td>1</td>\n",
       "      <td>1</td>\n",
       "      <td>1</td>\n",
       "      <td>10</td>\n",
       "      <td>0</td>\n",
       "      <td>1</td>\n",
       "    </tr>\n",
       "    <tr>\n",
       "      <th>3</th>\n",
       "      <td>Kamal</td>\n",
       "      <td>M.</td>\n",
       "      <td>Ali</td>\n",
       "      <td>+</td>\n",
       "      <td>5</td>\n",
       "      <td>3</td>\n",
       "      <td>2</td>\n",
       "      <td>3</td>\n",
       "      <td>2</td>\n",
       "      <td>1</td>\n",
       "      <td>...</td>\n",
       "      <td>1</td>\n",
       "      <td>0</td>\n",
       "      <td>1</td>\n",
       "      <td>1</td>\n",
       "      <td>1</td>\n",
       "      <td>1</td>\n",
       "      <td>1</td>\n",
       "      <td>10</td>\n",
       "      <td>0</td>\n",
       "      <td>1</td>\n",
       "    </tr>\n",
       "    <tr>\n",
       "      <th>4</th>\n",
       "      <td>Eric</td>\n",
       "      <td></td>\n",
       "      <td>Allender</td>\n",
       "      <td>-</td>\n",
       "      <td>4</td>\n",
       "      <td>8</td>\n",
       "      <td>2</td>\n",
       "      <td>2</td>\n",
       "      <td>3</td>\n",
       "      <td>5</td>\n",
       "      <td>...</td>\n",
       "      <td>0</td>\n",
       "      <td>0</td>\n",
       "      <td>0</td>\n",
       "      <td>0</td>\n",
       "      <td>1</td>\n",
       "      <td>1</td>\n",
       "      <td>1</td>\n",
       "      <td>12</td>\n",
       "      <td>1</td>\n",
       "      <td>0</td>\n",
       "    </tr>\n",
       "  </tbody>\n",
       "</table>\n",
       "<p>5 rows × 34 columns</p>\n",
       "</div>"
      ],
      "text/plain": [
       "  first name middle name last name label  length of first  length of last  \\\n",
       "0      Naoki                   Abe     +                5               3   \n",
       "1     Myriam              Abramson     -                6               8   \n",
       "2      David          W.       Aha     +                5               3   \n",
       "3      Kamal          M.       Ali     +                5               3   \n",
       "4       Eric              Allender     -                4               8   \n",
       "\n",
       "   firstvowels  firstCons  lastvowels  lastCons  ...  LVdummy  LCdummy  \\\n",
       "0            3          2           2         1  ...        1        0   \n",
       "1            2          4           3         5  ...        0        0   \n",
       "2            2          3           2         1  ...        1        0   \n",
       "3            2          3           2         1  ...        1        0   \n",
       "4            2          2           3         5  ...        0        0   \n",
       "\n",
       "   TVdummy  TCdummy  FtVdummy  FtCdummy  CtVdummy  total_length  Vowel_Fdummy  \\\n",
       "0        0        0         1         0         0             8             0   \n",
       "1        0        0         0         1         1            14             0   \n",
       "2        1        1         1         1         1            10             0   \n",
       "3        1        1         1         1         1            10             0   \n",
       "4        0        0         1         1         1            12             1   \n",
       "\n",
       "   Vowel_Sdummy  \n",
       "0             1  \n",
       "1             0  \n",
       "2             1  \n",
       "3             1  \n",
       "4             0  \n",
       "\n",
       "[5 rows x 34 columns]"
      ]
     },
     "execution_count": 111,
     "metadata": {},
     "output_type": "execute_result"
    }
   ],
   "source": [
    "names.head(5)"
   ]
  },
  {
   "cell_type": "code",
   "execution_count": 112,
   "metadata": {},
   "outputs": [
    {
     "data": {
      "text/plain": [
       "Index(['first name', 'middle name', 'last name', 'label', 'length of first',\n",
       "       'length of last', 'firstvowels', 'firstCons', 'lastvowels', 'lastCons',\n",
       "       'middledummy', 'totalVowels', 'totalCons', 'VtFratio', 'CtFratio',\n",
       "       'VtCratio', 'FtVratio', 'FtCratio', 'CtVratio', 'tot_lengthdummy',\n",
       "       'LoFdummy', 'LoLdummy', 'FVdummy', 'FCdummy', 'LVdummy', 'LCdummy',\n",
       "       'TVdummy', 'TCdummy', 'FtVdummy', 'FtCdummy', 'CtVdummy',\n",
       "       'total_length', 'Vowel_Fdummy', 'Vowel_Sdummy'],\n",
       "      dtype='object')"
      ]
     },
     "execution_count": 112,
     "metadata": {},
     "output_type": "execute_result"
    }
   ],
   "source": [
    "names.columns"
   ]
  },
  {
   "cell_type": "code",
   "execution_count": 116,
   "metadata": {},
   "outputs": [],
   "source": [
    "names1 = names[['total_length', 'middledummy', 'tot_lengthdummy',\n",
    "       'Vowel_Fdummy', 'Vowel_Sdummy', 'LoFdummy', 'LoLdummy', 'FVdummy', 'FCdummy', 'LVdummy', 'LCdummy',\n",
    "       'TVdummy', 'TCdummy', 'FtVdummy', 'FtCdummy', 'CtVdummy', 'label']]\n",
    "\n",
    "# I ultimately selected the 16 above to work with, prioritizing the dummy variables. The machine will easily learn with that."
   ]
  },
  {
   "cell_type": "code",
   "execution_count": 117,
   "metadata": {},
   "outputs": [
    {
     "data": {
      "text/html": [
       "<div>\n",
       "<style scoped>\n",
       "    .dataframe tbody tr th:only-of-type {\n",
       "        vertical-align: middle;\n",
       "    }\n",
       "\n",
       "    .dataframe tbody tr th {\n",
       "        vertical-align: top;\n",
       "    }\n",
       "\n",
       "    .dataframe thead th {\n",
       "        text-align: right;\n",
       "    }\n",
       "</style>\n",
       "<table border=\"1\" class=\"dataframe\">\n",
       "  <thead>\n",
       "    <tr style=\"text-align: right;\">\n",
       "      <th></th>\n",
       "      <th>total_length</th>\n",
       "      <th>middledummy</th>\n",
       "      <th>tot_lengthdummy</th>\n",
       "      <th>Vowel_Fdummy</th>\n",
       "      <th>Vowel_Sdummy</th>\n",
       "      <th>LoFdummy</th>\n",
       "      <th>LoLdummy</th>\n",
       "      <th>FVdummy</th>\n",
       "      <th>FCdummy</th>\n",
       "      <th>LVdummy</th>\n",
       "      <th>LCdummy</th>\n",
       "      <th>TVdummy</th>\n",
       "      <th>TCdummy</th>\n",
       "      <th>FtVdummy</th>\n",
       "      <th>FtCdummy</th>\n",
       "      <th>CtVdummy</th>\n",
       "      <th>label</th>\n",
       "    </tr>\n",
       "  </thead>\n",
       "  <tbody>\n",
       "    <tr>\n",
       "      <th>0</th>\n",
       "      <td>8</td>\n",
       "      <td>0</td>\n",
       "      <td>1</td>\n",
       "      <td>0</td>\n",
       "      <td>1</td>\n",
       "      <td>0</td>\n",
       "      <td>0</td>\n",
       "      <td>0</td>\n",
       "      <td>1</td>\n",
       "      <td>1</td>\n",
       "      <td>0</td>\n",
       "      <td>0</td>\n",
       "      <td>0</td>\n",
       "      <td>1</td>\n",
       "      <td>0</td>\n",
       "      <td>0</td>\n",
       "      <td>+</td>\n",
       "    </tr>\n",
       "    <tr>\n",
       "      <th>1</th>\n",
       "      <td>14</td>\n",
       "      <td>0</td>\n",
       "      <td>1</td>\n",
       "      <td>0</td>\n",
       "      <td>0</td>\n",
       "      <td>1</td>\n",
       "      <td>1</td>\n",
       "      <td>1</td>\n",
       "      <td>1</td>\n",
       "      <td>0</td>\n",
       "      <td>0</td>\n",
       "      <td>0</td>\n",
       "      <td>0</td>\n",
       "      <td>0</td>\n",
       "      <td>1</td>\n",
       "      <td>1</td>\n",
       "      <td>-</td>\n",
       "    </tr>\n",
       "    <tr>\n",
       "      <th>2</th>\n",
       "      <td>10</td>\n",
       "      <td>1</td>\n",
       "      <td>1</td>\n",
       "      <td>0</td>\n",
       "      <td>1</td>\n",
       "      <td>0</td>\n",
       "      <td>0</td>\n",
       "      <td>1</td>\n",
       "      <td>0</td>\n",
       "      <td>1</td>\n",
       "      <td>0</td>\n",
       "      <td>1</td>\n",
       "      <td>1</td>\n",
       "      <td>1</td>\n",
       "      <td>1</td>\n",
       "      <td>1</td>\n",
       "      <td>+</td>\n",
       "    </tr>\n",
       "    <tr>\n",
       "      <th>3</th>\n",
       "      <td>10</td>\n",
       "      <td>1</td>\n",
       "      <td>1</td>\n",
       "      <td>0</td>\n",
       "      <td>1</td>\n",
       "      <td>0</td>\n",
       "      <td>0</td>\n",
       "      <td>1</td>\n",
       "      <td>0</td>\n",
       "      <td>1</td>\n",
       "      <td>0</td>\n",
       "      <td>1</td>\n",
       "      <td>1</td>\n",
       "      <td>1</td>\n",
       "      <td>1</td>\n",
       "      <td>1</td>\n",
       "      <td>+</td>\n",
       "    </tr>\n",
       "    <tr>\n",
       "      <th>4</th>\n",
       "      <td>12</td>\n",
       "      <td>0</td>\n",
       "      <td>1</td>\n",
       "      <td>1</td>\n",
       "      <td>0</td>\n",
       "      <td>1</td>\n",
       "      <td>1</td>\n",
       "      <td>1</td>\n",
       "      <td>1</td>\n",
       "      <td>0</td>\n",
       "      <td>0</td>\n",
       "      <td>0</td>\n",
       "      <td>0</td>\n",
       "      <td>1</td>\n",
       "      <td>1</td>\n",
       "      <td>1</td>\n",
       "      <td>-</td>\n",
       "    </tr>\n",
       "  </tbody>\n",
       "</table>\n",
       "</div>"
      ],
      "text/plain": [
       "   total_length  middledummy  tot_lengthdummy  Vowel_Fdummy  Vowel_Sdummy  \\\n",
       "0             8            0                1             0             1   \n",
       "1            14            0                1             0             0   \n",
       "2            10            1                1             0             1   \n",
       "3            10            1                1             0             1   \n",
       "4            12            0                1             1             0   \n",
       "\n",
       "   LoFdummy  LoLdummy  FVdummy  FCdummy  LVdummy  LCdummy  TVdummy  TCdummy  \\\n",
       "0         0         0        0        1        1        0        0        0   \n",
       "1         1         1        1        1        0        0        0        0   \n",
       "2         0         0        1        0        1        0        1        1   \n",
       "3         0         0        1        0        1        0        1        1   \n",
       "4         1         1        1        1        0        0        0        0   \n",
       "\n",
       "   FtVdummy  FtCdummy  CtVdummy label  \n",
       "0         1         0         0     +  \n",
       "1         0         1         1     -  \n",
       "2         1         1         1     +  \n",
       "3         1         1         1     +  \n",
       "4         1         1         1     -  "
      ]
     },
     "execution_count": 117,
     "metadata": {},
     "output_type": "execute_result"
    }
   ],
   "source": [
    "names1.head()"
   ]
  },
  {
   "cell_type": "code",
   "execution_count": 70,
   "metadata": {},
   "outputs": [
    {
     "data": {
      "text/plain": [
       "+    210\n",
       "-     84\n",
       "Name: label, dtype: int64"
      ]
     },
     "execution_count": 70,
     "metadata": {},
     "output_type": "execute_result"
    }
   ],
   "source": [
    "names['label'].value_counts()"
   ]
  },
  {
   "cell_type": "code",
   "execution_count": 118,
   "metadata": {},
   "outputs": [
    {
     "data": {
      "text/plain": [
       "+    210\n",
       "-     84\n",
       "Name: label, dtype: int64"
      ]
     },
     "execution_count": 118,
     "metadata": {},
     "output_type": "execute_result"
    }
   ],
   "source": [
    "names1['label'].value_counts()"
   ]
  },
  {
   "cell_type": "code",
   "execution_count": 72,
   "metadata": {},
   "outputs": [
    {
     "data": {
      "text/plain": [
       "Index(['first name', 'middle name', 'last name', 'label', 'length of first',\n",
       "       'length of last', 'firstvowels', 'firstCons', 'lastvowels', 'lastCons',\n",
       "       'middledummy', 'totalVowels', 'totalCons', 'VtFratio', 'CtFratio',\n",
       "       'VtCratio'],\n",
       "      dtype='object')"
      ]
     },
     "execution_count": 72,
     "metadata": {},
     "output_type": "execute_result"
    }
   ],
   "source": [
    "names.columns"
   ]
  },
  {
   "cell_type": "code",
   "execution_count": 78,
   "metadata": {},
   "outputs": [],
   "source": [
    "from sklearn.model_selection import train_test_split"
   ]
  },
  {
   "cell_type": "code",
   "execution_count": 119,
   "metadata": {},
   "outputs": [],
   "source": [
    "X = names1.drop('label', axis=1)"
   ]
  },
  {
   "cell_type": "code",
   "execution_count": 120,
   "metadata": {},
   "outputs": [],
   "source": [
    "y = names1['label']"
   ]
  },
  {
   "cell_type": "code",
   "execution_count": 121,
   "metadata": {},
   "outputs": [
    {
     "data": {
      "text/html": [
       "<div>\n",
       "<style scoped>\n",
       "    .dataframe tbody tr th:only-of-type {\n",
       "        vertical-align: middle;\n",
       "    }\n",
       "\n",
       "    .dataframe tbody tr th {\n",
       "        vertical-align: top;\n",
       "    }\n",
       "\n",
       "    .dataframe thead th {\n",
       "        text-align: right;\n",
       "    }\n",
       "</style>\n",
       "<table border=\"1\" class=\"dataframe\">\n",
       "  <thead>\n",
       "    <tr style=\"text-align: right;\">\n",
       "      <th></th>\n",
       "      <th>total_length</th>\n",
       "      <th>middledummy</th>\n",
       "      <th>tot_lengthdummy</th>\n",
       "      <th>Vowel_Fdummy</th>\n",
       "      <th>Vowel_Sdummy</th>\n",
       "      <th>LoFdummy</th>\n",
       "      <th>LoLdummy</th>\n",
       "      <th>FVdummy</th>\n",
       "      <th>FCdummy</th>\n",
       "      <th>LVdummy</th>\n",
       "      <th>LCdummy</th>\n",
       "      <th>TVdummy</th>\n",
       "      <th>TCdummy</th>\n",
       "      <th>FtVdummy</th>\n",
       "      <th>FtCdummy</th>\n",
       "      <th>CtVdummy</th>\n",
       "    </tr>\n",
       "  </thead>\n",
       "  <tbody>\n",
       "    <tr>\n",
       "      <th>0</th>\n",
       "      <td>8</td>\n",
       "      <td>0</td>\n",
       "      <td>1</td>\n",
       "      <td>0</td>\n",
       "      <td>1</td>\n",
       "      <td>0</td>\n",
       "      <td>0</td>\n",
       "      <td>0</td>\n",
       "      <td>1</td>\n",
       "      <td>1</td>\n",
       "      <td>0</td>\n",
       "      <td>0</td>\n",
       "      <td>0</td>\n",
       "      <td>1</td>\n",
       "      <td>0</td>\n",
       "      <td>0</td>\n",
       "    </tr>\n",
       "    <tr>\n",
       "      <th>1</th>\n",
       "      <td>14</td>\n",
       "      <td>0</td>\n",
       "      <td>1</td>\n",
       "      <td>0</td>\n",
       "      <td>0</td>\n",
       "      <td>1</td>\n",
       "      <td>1</td>\n",
       "      <td>1</td>\n",
       "      <td>1</td>\n",
       "      <td>0</td>\n",
       "      <td>0</td>\n",
       "      <td>0</td>\n",
       "      <td>0</td>\n",
       "      <td>0</td>\n",
       "      <td>1</td>\n",
       "      <td>1</td>\n",
       "    </tr>\n",
       "    <tr>\n",
       "      <th>2</th>\n",
       "      <td>10</td>\n",
       "      <td>1</td>\n",
       "      <td>1</td>\n",
       "      <td>0</td>\n",
       "      <td>1</td>\n",
       "      <td>0</td>\n",
       "      <td>0</td>\n",
       "      <td>1</td>\n",
       "      <td>0</td>\n",
       "      <td>1</td>\n",
       "      <td>0</td>\n",
       "      <td>1</td>\n",
       "      <td>1</td>\n",
       "      <td>1</td>\n",
       "      <td>1</td>\n",
       "      <td>1</td>\n",
       "    </tr>\n",
       "    <tr>\n",
       "      <th>3</th>\n",
       "      <td>10</td>\n",
       "      <td>1</td>\n",
       "      <td>1</td>\n",
       "      <td>0</td>\n",
       "      <td>1</td>\n",
       "      <td>0</td>\n",
       "      <td>0</td>\n",
       "      <td>1</td>\n",
       "      <td>0</td>\n",
       "      <td>1</td>\n",
       "      <td>0</td>\n",
       "      <td>1</td>\n",
       "      <td>1</td>\n",
       "      <td>1</td>\n",
       "      <td>1</td>\n",
       "      <td>1</td>\n",
       "    </tr>\n",
       "    <tr>\n",
       "      <th>4</th>\n",
       "      <td>12</td>\n",
       "      <td>0</td>\n",
       "      <td>1</td>\n",
       "      <td>1</td>\n",
       "      <td>0</td>\n",
       "      <td>1</td>\n",
       "      <td>1</td>\n",
       "      <td>1</td>\n",
       "      <td>1</td>\n",
       "      <td>0</td>\n",
       "      <td>0</td>\n",
       "      <td>0</td>\n",
       "      <td>0</td>\n",
       "      <td>1</td>\n",
       "      <td>1</td>\n",
       "      <td>1</td>\n",
       "    </tr>\n",
       "  </tbody>\n",
       "</table>\n",
       "</div>"
      ],
      "text/plain": [
       "   total_length  middledummy  tot_lengthdummy  Vowel_Fdummy  Vowel_Sdummy  \\\n",
       "0             8            0                1             0             1   \n",
       "1            14            0                1             0             0   \n",
       "2            10            1                1             0             1   \n",
       "3            10            1                1             0             1   \n",
       "4            12            0                1             1             0   \n",
       "\n",
       "   LoFdummy  LoLdummy  FVdummy  FCdummy  LVdummy  LCdummy  TVdummy  TCdummy  \\\n",
       "0         0         0        0        1        1        0        0        0   \n",
       "1         1         1        1        1        0        0        0        0   \n",
       "2         0         0        1        0        1        0        1        1   \n",
       "3         0         0        1        0        1        0        1        1   \n",
       "4         1         1        1        1        0        0        0        0   \n",
       "\n",
       "   FtVdummy  FtCdummy  CtVdummy  \n",
       "0         1         0         0  \n",
       "1         0         1         1  \n",
       "2         1         1         1  \n",
       "3         1         1         1  \n",
       "4         1         1         1  "
      ]
     },
     "execution_count": 121,
     "metadata": {},
     "output_type": "execute_result"
    }
   ],
   "source": [
    "X.head()"
   ]
  },
  {
   "cell_type": "markdown",
   "metadata": {},
   "source": [
    "# As we will see, a single tree worked great, with 100% accuracy. I didn't need  a whole forest :)\n",
    "\n",
    "Nevertheless, I have another model below with the forest.\n",
    "\n",
    "One might rightly wonder if all these variables were useful, I went all in at first. Now that I realize my model is working great, I decided to find the best variables. You will see the results further down.\n",
    "\n",
    "I used the RFE from sklearn.feature_selection to select the top six variables:\n",
    "\n",
    "1. What is the total length of the person's name? ('total_length') \n",
    "\n",
    "2. Is the first letter of the person's name a vowel? ('Vowel_Fdummy') \n",
    "\n",
    "3. Is the second letter of the name a vowel? ('Vowel_Sdummy') \n",
    "\n",
    "4. Is the length of last name an even number? ('LoLdummy') \n",
    "\n",
    "5. Is the number of vowels in first name an even numer? ('FVdummy')\n",
    "\n",
    "6. Is there a middle name? ('middledummy')"
   ]
  },
  {
   "cell_type": "code",
   "execution_count": 122,
   "metadata": {},
   "outputs": [],
   "source": [
    "X_train, X_test, y_train, y_test = train_test_split(X, y, test_size=0.3)"
   ]
  },
  {
   "cell_type": "code",
   "execution_count": 123,
   "metadata": {},
   "outputs": [],
   "source": [
    "from sklearn.tree import DecisionTreeClassifier"
   ]
  },
  {
   "cell_type": "code",
   "execution_count": 124,
   "metadata": {},
   "outputs": [],
   "source": [
    "dtree = DecisionTreeClassifier()"
   ]
  },
  {
   "cell_type": "code",
   "execution_count": 125,
   "metadata": {},
   "outputs": [
    {
     "data": {
      "text/plain": [
       "DecisionTreeClassifier(class_weight=None, criterion='gini', max_depth=None,\n",
       "            max_features=None, max_leaf_nodes=None,\n",
       "            min_impurity_decrease=0.0, min_impurity_split=None,\n",
       "            min_samples_leaf=1, min_samples_split=2,\n",
       "            min_weight_fraction_leaf=0.0, presort=False, random_state=None,\n",
       "            splitter='best')"
      ]
     },
     "execution_count": 125,
     "metadata": {},
     "output_type": "execute_result"
    }
   ],
   "source": [
    "dtree.fit(X_train,y_train)"
   ]
  },
  {
   "cell_type": "code",
   "execution_count": 126,
   "metadata": {},
   "outputs": [],
   "source": [
    "predictions = dtree.predict(X_test)"
   ]
  },
  {
   "cell_type": "code",
   "execution_count": 127,
   "metadata": {},
   "outputs": [
    {
     "data": {
      "text/plain": [
       "27     +\n",
       "283    -\n",
       "201    +\n",
       "118    -\n",
       "293    +\n",
       "129    +\n",
       "28     +\n",
       "158    +\n",
       "218    +\n",
       "52     -\n",
       "289    +\n",
       "103    +\n",
       "243    +\n",
       "135    +\n",
       "178    -\n",
       "205    +\n",
       "108    +\n",
       "5      +\n",
       "266    +\n",
       "146    -\n",
       "284    -\n",
       "251    +\n",
       "45     +\n",
       "236    +\n",
       "104    +\n",
       "123    -\n",
       "83     +\n",
       "210    -\n",
       "234    -\n",
       "112    +\n",
       "      ..\n",
       "259    +\n",
       "200    -\n",
       "56     -\n",
       "142    +\n",
       "145    +\n",
       "11     +\n",
       "282    -\n",
       "99     +\n",
       "34     +\n",
       "86     +\n",
       "275    +\n",
       "232    +\n",
       "12     +\n",
       "195    +\n",
       "267    +\n",
       "241    +\n",
       "126    +\n",
       "172    +\n",
       "127    +\n",
       "265    +\n",
       "288    +\n",
       "4      -\n",
       "124    +\n",
       "19     +\n",
       "80     -\n",
       "254    +\n",
       "263    +\n",
       "2      +\n",
       "264    -\n",
       "90     +\n",
       "Name: label, Length: 89, dtype: object"
      ]
     },
     "execution_count": 127,
     "metadata": {},
     "output_type": "execute_result"
    }
   ],
   "source": [
    "y_test"
   ]
  },
  {
   "cell_type": "code",
   "execution_count": 128,
   "metadata": {},
   "outputs": [
    {
     "data": {
      "text/plain": [
       "array(['+', '-', '+', '-', '+', '+', '+', '+', '+', '-', '+', '+', '+',\n",
       "       '+', '-', '+', '+', '+', '+', '-', '-', '+', '+', '+', '+', '-',\n",
       "       '+', '-', '-', '+', '+', '+', '+', '-', '-', '+', '-', '+', '+',\n",
       "       '-', '-', '-', '-', '+', '+', '+', '+', '-', '+', '+', '-', '+',\n",
       "       '+', '+', '+', '-', '-', '-', '+', '+', '-', '-', '+', '+', '+',\n",
       "       '-', '+', '+', '+', '+', '+', '+', '+', '+', '+', '+', '+', '+',\n",
       "       '+', '+', '-', '+', '+', '-', '+', '+', '+', '-', '+'],\n",
       "      dtype=object)"
      ]
     },
     "execution_count": 128,
     "metadata": {},
     "output_type": "execute_result"
    }
   ],
   "source": [
    "predictions"
   ]
  },
  {
   "cell_type": "code",
   "execution_count": 129,
   "metadata": {},
   "outputs": [],
   "source": [
    "from sklearn.metrics import classification_report, confusion_matrix"
   ]
  },
  {
   "cell_type": "code",
   "execution_count": 130,
   "metadata": {},
   "outputs": [
    {
     "name": "stdout",
     "output_type": "stream",
     "text": [
      "              precision    recall  f1-score   support\n",
      "\n",
      "           +       1.00      1.00      1.00        62\n",
      "           -       1.00      1.00      1.00        27\n",
      "\n",
      "   micro avg       1.00      1.00      1.00        89\n",
      "   macro avg       1.00      1.00      1.00        89\n",
      "weighted avg       1.00      1.00      1.00        89\n",
      "\n",
      "\n",
      "\n",
      "[[62  0]\n",
      " [ 0 27]]\n"
     ]
    }
   ],
   "source": [
    "print(classification_report(y_test,predictions))\n",
    "print('\\n')\n",
    "print (confusion_matrix(y_test,predictions))"
   ]
  },
  {
   "cell_type": "code",
   "execution_count": 131,
   "metadata": {},
   "outputs": [],
   "source": [
    "from sklearn.ensemble import RandomForestClassifier"
   ]
  },
  {
   "cell_type": "code",
   "execution_count": 132,
   "metadata": {},
   "outputs": [],
   "source": [
    "rfc = RandomForestClassifier(n_estimators=1000)"
   ]
  },
  {
   "cell_type": "code",
   "execution_count": 133,
   "metadata": {},
   "outputs": [
    {
     "data": {
      "text/plain": [
       "RandomForestClassifier(bootstrap=True, class_weight=None, criterion='gini',\n",
       "            max_depth=None, max_features='auto', max_leaf_nodes=None,\n",
       "            min_impurity_decrease=0.0, min_impurity_split=None,\n",
       "            min_samples_leaf=1, min_samples_split=2,\n",
       "            min_weight_fraction_leaf=0.0, n_estimators=1000, n_jobs=None,\n",
       "            oob_score=False, random_state=None, verbose=0,\n",
       "            warm_start=False)"
      ]
     },
     "execution_count": 133,
     "metadata": {},
     "output_type": "execute_result"
    }
   ],
   "source": [
    "rfc.fit(X_train,y_train)"
   ]
  },
  {
   "cell_type": "code",
   "execution_count": 134,
   "metadata": {},
   "outputs": [],
   "source": [
    "rfc_pred = rfc.predict(X_test)"
   ]
  },
  {
   "cell_type": "code",
   "execution_count": 135,
   "metadata": {},
   "outputs": [
    {
     "data": {
      "text/plain": [
       "array(['+', '-', '+', '-', '+', '+', '+', '+', '+', '-', '+', '+', '+',\n",
       "       '+', '-', '+', '+', '+', '+', '-', '-', '+', '+', '+', '+', '-',\n",
       "       '+', '-', '-', '+', '+', '+', '+', '-', '-', '+', '-', '+', '+',\n",
       "       '-', '-', '-', '-', '+', '+', '+', '+', '-', '+', '+', '-', '+',\n",
       "       '+', '+', '+', '-', '-', '-', '+', '+', '-', '-', '+', '+', '+',\n",
       "       '-', '+', '+', '+', '+', '+', '+', '+', '+', '+', '+', '+', '+',\n",
       "       '+', '+', '-', '+', '+', '-', '+', '+', '+', '-', '+'],\n",
       "      dtype=object)"
      ]
     },
     "execution_count": 135,
     "metadata": {},
     "output_type": "execute_result"
    }
   ],
   "source": [
    "rfc_pred"
   ]
  },
  {
   "cell_type": "code",
   "execution_count": 136,
   "metadata": {},
   "outputs": [
    {
     "data": {
      "text/plain": [
       "27     +\n",
       "283    -\n",
       "201    +\n",
       "118    -\n",
       "293    +\n",
       "129    +\n",
       "28     +\n",
       "158    +\n",
       "218    +\n",
       "52     -\n",
       "289    +\n",
       "103    +\n",
       "243    +\n",
       "135    +\n",
       "178    -\n",
       "205    +\n",
       "108    +\n",
       "5      +\n",
       "266    +\n",
       "146    -\n",
       "284    -\n",
       "251    +\n",
       "45     +\n",
       "236    +\n",
       "104    +\n",
       "123    -\n",
       "83     +\n",
       "210    -\n",
       "234    -\n",
       "112    +\n",
       "      ..\n",
       "259    +\n",
       "200    -\n",
       "56     -\n",
       "142    +\n",
       "145    +\n",
       "11     +\n",
       "282    -\n",
       "99     +\n",
       "34     +\n",
       "86     +\n",
       "275    +\n",
       "232    +\n",
       "12     +\n",
       "195    +\n",
       "267    +\n",
       "241    +\n",
       "126    +\n",
       "172    +\n",
       "127    +\n",
       "265    +\n",
       "288    +\n",
       "4      -\n",
       "124    +\n",
       "19     +\n",
       "80     -\n",
       "254    +\n",
       "263    +\n",
       "2      +\n",
       "264    -\n",
       "90     +\n",
       "Name: label, Length: 89, dtype: object"
      ]
     },
     "execution_count": 136,
     "metadata": {},
     "output_type": "execute_result"
    }
   ],
   "source": [
    "y_test"
   ]
  },
  {
   "cell_type": "code",
   "execution_count": 137,
   "metadata": {},
   "outputs": [
    {
     "name": "stdout",
     "output_type": "stream",
     "text": [
      "              precision    recall  f1-score   support\n",
      "\n",
      "           +       1.00      1.00      1.00        62\n",
      "           -       1.00      1.00      1.00        27\n",
      "\n",
      "   micro avg       1.00      1.00      1.00        89\n",
      "   macro avg       1.00      1.00      1.00        89\n",
      "weighted avg       1.00      1.00      1.00        89\n",
      "\n",
      "\n",
      "\n",
      "[[62  0]\n",
      " [ 0 27]]\n"
     ]
    }
   ],
   "source": [
    "print(classification_report(y_test,rfc_pred))\n",
    "print('\\n')\n",
    "print (confusion_matrix(y_test,rfc_pred))"
   ]
  },
  {
   "cell_type": "code",
   "execution_count": 138,
   "metadata": {},
   "outputs": [],
   "source": [
    "from sklearn.feature_selection import RFE"
   ]
  },
  {
   "cell_type": "code",
   "execution_count": 139,
   "metadata": {},
   "outputs": [],
   "source": [
    "rfe = RFE(rfc, 5)"
   ]
  },
  {
   "cell_type": "code",
   "execution_count": 140,
   "metadata": {},
   "outputs": [],
   "source": [
    "fit = rfe.fit(X_train, y_train)"
   ]
  },
  {
   "cell_type": "code",
   "execution_count": 141,
   "metadata": {},
   "outputs": [
    {
     "data": {
      "text/plain": [
       "5"
      ]
     },
     "execution_count": 141,
     "metadata": {},
     "output_type": "execute_result"
    }
   ],
   "source": [
    "fit.n_features_"
   ]
  },
  {
   "cell_type": "code",
   "execution_count": 143,
   "metadata": {},
   "outputs": [
    {
     "data": {
      "text/plain": [
       "array([ True, False, False,  True,  True, False,  True,  True, False,\n",
       "       False, False, False, False, False, False, False])"
      ]
     },
     "execution_count": 143,
     "metadata": {},
     "output_type": "execute_result"
    }
   ],
   "source": [
    "fit.support_"
   ]
  },
  {
   "cell_type": "code",
   "execution_count": 144,
   "metadata": {},
   "outputs": [
    {
     "data": {
      "text/plain": [
       "array([ 1,  2,  4,  1,  1,  8,  1,  1,  9,  3, 10,  6, 12,  7,  5, 11])"
      ]
     },
     "execution_count": 144,
     "metadata": {},
     "output_type": "execute_result"
    }
   ],
   "source": [
    "fit.ranking_"
   ]
  },
  {
   "cell_type": "code",
   "execution_count": 147,
   "metadata": {},
   "outputs": [
    {
     "data": {
      "text/plain": [
       "Index(['total_length', 'middledummy', 'tot_lengthdummy', 'Vowel_Fdummy',\n",
       "       'Vowel_Sdummy', 'LoFdummy', 'LoLdummy', 'FVdummy', 'FCdummy', 'LVdummy',\n",
       "       'LCdummy', 'TVdummy', 'TCdummy', 'FtVdummy', 'FtCdummy', 'CtVdummy'],\n",
       "      dtype='object')"
      ]
     },
     "execution_count": 147,
     "metadata": {},
     "output_type": "execute_result"
    }
   ],
   "source": [
    "X_train.columns"
   ]
  },
  {
   "cell_type": "code",
   "execution_count": 149,
   "metadata": {},
   "outputs": [],
   "source": [
    "X = names1[['total_length', 'Vowel_Fdummy',  'Vowel_Sdummy', 'LoLdummy', 'FVdummy', 'middledummy']]"
   ]
  },
  {
   "cell_type": "code",
   "execution_count": 151,
   "metadata": {},
   "outputs": [],
   "source": [
    "y = names1['label']"
   ]
  },
  {
   "cell_type": "code",
   "execution_count": 152,
   "metadata": {},
   "outputs": [],
   "source": [
    "X_train, X_test, y_train, y_test = train_test_split(X, y, test_size=0.3)"
   ]
  },
  {
   "cell_type": "code",
   "execution_count": 153,
   "metadata": {},
   "outputs": [],
   "source": [
    "rfc = RandomForestClassifier(n_estimators=1000)"
   ]
  },
  {
   "cell_type": "code",
   "execution_count": 154,
   "metadata": {},
   "outputs": [
    {
     "data": {
      "text/plain": [
       "RandomForestClassifier(bootstrap=True, class_weight=None, criterion='gini',\n",
       "            max_depth=None, max_features='auto', max_leaf_nodes=None,\n",
       "            min_impurity_decrease=0.0, min_impurity_split=None,\n",
       "            min_samples_leaf=1, min_samples_split=2,\n",
       "            min_weight_fraction_leaf=0.0, n_estimators=1000, n_jobs=None,\n",
       "            oob_score=False, random_state=None, verbose=0,\n",
       "            warm_start=False)"
      ]
     },
     "execution_count": 154,
     "metadata": {},
     "output_type": "execute_result"
    }
   ],
   "source": [
    "rfc.fit(X_train,y_train)"
   ]
  },
  {
   "cell_type": "code",
   "execution_count": 155,
   "metadata": {},
   "outputs": [],
   "source": [
    "rfc_pred = rfc.predict(X_test)"
   ]
  },
  {
   "cell_type": "code",
   "execution_count": 156,
   "metadata": {},
   "outputs": [
    {
     "data": {
      "text/plain": [
       "array(['+', '+', '-', '+', '-', '+', '+', '+', '+', '+', '+', '+', '+',\n",
       "       '-', '+', '+', '+', '+', '+', '+', '-', '+', '+', '+', '+', '-',\n",
       "       '-', '+', '+', '+', '-', '+', '+', '+', '+', '+', '+', '+', '-',\n",
       "       '-', '+', '+', '+', '-', '+', '+', '+', '-', '-', '+', '-', '-',\n",
       "       '-', '+', '+', '+', '+', '-', '+', '+', '+', '-', '-', '+', '+',\n",
       "       '-', '+', '+', '+', '+', '+', '+', '+', '+', '-', '-', '+', '-',\n",
       "       '+', '+', '+', '+', '+', '-', '+', '+', '+', '+', '+'],\n",
       "      dtype=object)"
      ]
     },
     "execution_count": 156,
     "metadata": {},
     "output_type": "execute_result"
    }
   ],
   "source": [
    "rfc_pred"
   ]
  },
  {
   "cell_type": "code",
   "execution_count": 157,
   "metadata": {},
   "outputs": [
    {
     "name": "stdout",
     "output_type": "stream",
     "text": [
      "              precision    recall  f1-score   support\n",
      "\n",
      "           +       1.00      1.00      1.00        66\n",
      "           -       1.00      1.00      1.00        23\n",
      "\n",
      "   micro avg       1.00      1.00      1.00        89\n",
      "   macro avg       1.00      1.00      1.00        89\n",
      "weighted avg       1.00      1.00      1.00        89\n",
      "\n",
      "\n",
      "\n",
      "[[66  0]\n",
      " [ 0 23]]\n"
     ]
    }
   ],
   "source": [
    "print(classification_report(y_test,rfc_pred))\n",
    "print('\\n')\n",
    "print (confusion_matrix(y_test,rfc_pred))"
   ]
  },
  {
   "cell_type": "code",
   "execution_count": null,
   "metadata": {},
   "outputs": [],
   "source": []
  },
  {
   "cell_type": "code",
   "execution_count": 158,
   "metadata": {},
   "outputs": [],
   "source": [
    "rfc1 = RandomForestClassifier(n_estimators=20)"
   ]
  },
  {
   "cell_type": "code",
   "execution_count": 159,
   "metadata": {},
   "outputs": [
    {
     "data": {
      "text/plain": [
       "RandomForestClassifier(bootstrap=True, class_weight=None, criterion='gini',\n",
       "            max_depth=None, max_features='auto', max_leaf_nodes=None,\n",
       "            min_impurity_decrease=0.0, min_impurity_split=None,\n",
       "            min_samples_leaf=1, min_samples_split=2,\n",
       "            min_weight_fraction_leaf=0.0, n_estimators=20, n_jobs=None,\n",
       "            oob_score=False, random_state=None, verbose=0,\n",
       "            warm_start=False)"
      ]
     },
     "execution_count": 159,
     "metadata": {},
     "output_type": "execute_result"
    }
   ],
   "source": [
    "rfc1.fit(X_train,y_train)"
   ]
  },
  {
   "cell_type": "code",
   "execution_count": 160,
   "metadata": {},
   "outputs": [],
   "source": [
    "rfc1_pred = rfc1.predict(X_test)"
   ]
  },
  {
   "cell_type": "code",
   "execution_count": 161,
   "metadata": {},
   "outputs": [
    {
     "data": {
      "text/plain": [
       "array(['+', '+', '-', '+', '-', '+', '+', '+', '+', '+', '+', '+', '+',\n",
       "       '-', '+', '+', '+', '+', '+', '+', '-', '+', '+', '+', '+', '-',\n",
       "       '-', '+', '+', '+', '-', '+', '+', '+', '+', '+', '+', '+', '-',\n",
       "       '-', '+', '+', '+', '-', '+', '+', '+', '-', '-', '+', '-', '-',\n",
       "       '-', '+', '+', '+', '+', '-', '+', '+', '+', '-', '-', '+', '+',\n",
       "       '-', '+', '+', '+', '+', '+', '+', '+', '+', '-', '-', '+', '-',\n",
       "       '+', '+', '+', '+', '+', '-', '+', '+', '+', '+', '+'],\n",
       "      dtype=object)"
      ]
     },
     "execution_count": 161,
     "metadata": {},
     "output_type": "execute_result"
    }
   ],
   "source": [
    "rfc1_pred"
   ]
  },
  {
   "cell_type": "code",
   "execution_count": 162,
   "metadata": {},
   "outputs": [
    {
     "name": "stdout",
     "output_type": "stream",
     "text": [
      "              precision    recall  f1-score   support\n",
      "\n",
      "           +       1.00      1.00      1.00        66\n",
      "           -       1.00      1.00      1.00        23\n",
      "\n",
      "   micro avg       1.00      1.00      1.00        89\n",
      "   macro avg       1.00      1.00      1.00        89\n",
      "weighted avg       1.00      1.00      1.00        89\n",
      "\n",
      "\n",
      "\n",
      "[[66  0]\n",
      " [ 0 23]]\n"
     ]
    }
   ],
   "source": [
    "print(classification_report(y_test,rfc1_pred))\n",
    "print('\\n')\n",
    "print (confusion_matrix(y_test,rfc1_pred))"
   ]
  },
  {
   "cell_type": "code",
   "execution_count": null,
   "metadata": {},
   "outputs": [],
   "source": []
  }
 ],
 "metadata": {
  "kernelspec": {
   "display_name": "Python 3",
   "language": "python",
   "name": "python3"
  },
  "language_info": {
   "codemirror_mode": {
    "name": "ipython",
    "version": 3
   },
   "file_extension": ".py",
   "mimetype": "text/x-python",
   "name": "python",
   "nbconvert_exporter": "python",
   "pygments_lexer": "ipython3",
   "version": "3.7.3"
  }
 },
 "nbformat": 4,
 "nbformat_minor": 2
}
